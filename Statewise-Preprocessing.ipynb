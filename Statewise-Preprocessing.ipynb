{
 "cells": [
  {
   "cell_type": "code",
   "execution_count": 1,
   "metadata": {},
   "outputs": [],
   "source": [
    "import pandas as pd\n",
    "import numpy as np\n",
    "import math\n",
    "from  geopy.geocoders import Nominatim"
   ]
  },
  {
   "cell_type": "markdown",
   "metadata": {},
   "source": [
    "__General__"
   ]
  },
  {
   "cell_type": "code",
   "execution_count": 77,
   "metadata": {},
   "outputs": [
    {
     "name": "stdout",
     "output_type": "stream",
     "text": [
      "                       State/UT  No of Positive cases  Latitude  Longitude\n",
      "1   Andaman and Nicobar Islands                    10       NaN        NaN\n",
      "2                         Bihar                    32       NaN        NaN\n",
      "3                    Chandigarh                    18       NaN        NaN\n",
      "4                  Chhattisgarh                    10       NaN        NaN\n",
      "5                         Delhi                   523       NaN        NaN\n",
      "6                           Goa                     7       NaN        NaN\n",
      "7                       Gujarat                   144       NaN        NaN\n",
      "8                       Haryana                    90       NaN        NaN\n",
      "9              Himachal Pradesh                    13       NaN        NaN\n",
      "10            Jammu and Kashmir                   109       NaN        NaN\n",
      "11                    Karnataka                   151       NaN        NaN\n",
      "12                       Kerala                   327       NaN        NaN\n",
      "13                       Ladakh                    14       NaN        NaN\n",
      "14               Madhya Pradesh                   165       NaN        NaN\n",
      "15                  Maharashtra                   748       NaN        NaN\n",
      "16                      Manipur                     2       NaN        NaN\n",
      "17                      Mizoram                     1       NaN        NaN\n",
      "18                       Odisha                    21       NaN        NaN\n",
      "19                   Puducherry                     5       NaN        NaN\n",
      "20                       Punjab                    76       NaN        NaN\n",
      "21                    Rajasthan                   288       NaN        NaN\n",
      "22                    TamilNadu                   621       NaN        NaN\n",
      "23                    Telengana                   321       NaN        NaN\n",
      "24                  Uttarakhand                    31       NaN        NaN\n",
      "25                Uttar Pradesh                   305       NaN        NaN\n",
      "26                  West Bengal                    91       NaN        NaN\n",
      "27                        Assam                    26       NaN        NaN\n",
      "28                    Jharkhand                     4       NaN        NaN\n",
      "29            Arunachal Pradesh                     1       NaN        NaN\n",
      "30                      Tripura                     1       NaN        NaN\n"
     ]
    },
    {
     "name": "stderr",
     "output_type": "stream",
     "text": [
      "C:\\Users\\Bala\\AppData\\Roaming\\Python\\Python37\\site-packages\\ipykernel_launcher.py:4: SettingWithCopyWarning: \n",
      "A value is trying to be set on a copy of a slice from a DataFrame\n",
      "\n",
      "See the caveats in the documentation: http://pandas.pydata.org/pandas-docs/stable/user_guide/indexing.html#returning-a-view-versus-a-copy\n",
      "  after removing the cwd from sys.path.\n",
      "C:\\Users\\Bala\\AppData\\Roaming\\Python\\Python37\\site-packages\\ipykernel_launcher.py:5: SettingWithCopyWarning: \n",
      "A value is trying to be set on a copy of a slice from a DataFrame\n",
      "\n",
      "See the caveats in the documentation: http://pandas.pydata.org/pandas-docs/stable/user_guide/indexing.html#returning-a-view-versus-a-copy\n",
      "  \"\"\"\n",
      "C:\\Users\\Bala\\AppData\\Roaming\\Python\\Python37\\site-packages\\ipykernel_launcher.py:6: SettingWithCopyWarning: \n",
      "A value is trying to be set on a copy of a slice from a DataFrame\n",
      "\n",
      "See the caveats in the documentation: http://pandas.pydata.org/pandas-docs/stable/user_guide/indexing.html#returning-a-view-versus-a-copy\n",
      "  \n",
      "C:\\Users\\Bala\\AppData\\Roaming\\Python\\Python37\\site-packages\\ipykernel_launcher.py:7: SettingWithCopyWarning: \n",
      "A value is trying to be set on a copy of a slice from a DataFrame\n",
      "\n",
      "See the caveats in the documentation: http://pandas.pydata.org/pandas-docs/stable/user_guide/indexing.html#returning-a-view-versus-a-copy\n",
      "  import sys\n"
     ]
    }
   ],
   "source": [
    "df = pd.read_excel('Statewise-2020-04-06.xlsx', header = 0)\n",
    "df.rename(columns={\"Name of State / UT\": \"State/UT\",\"Total Confirmed cases (Including 65 foreign Nationals)\": \"No of Positive cases\", 'Lat': 'Latitude', 'Long': 'Longitude'}, inplace = True)\n",
    "df.drop(['S. No.'], axis=1, inplace = True)\n",
    "df['State/UT'][0] = 'Andhra Pradesh'\n",
    "df['State/UT'][1] = 'Andaman and Nicobar Islands'\n",
    "df['State/UT'][9] = 'Himachal Pradesh'\n",
    "df['State/UT'][25] = 'Uttar Pradesh'\n",
    "df.drop([0], inplace = True)\n",
    "with pd.option_context('display.max_rows', None, 'display.max_columns', None):  # more options can be specified also\n",
    "    print(df)"
   ]
  },
  {
   "cell_type": "code",
   "execution_count": 78,
   "metadata": {},
   "outputs": [
    {
     "name": "stderr",
     "output_type": "stream",
     "text": [
      "C:\\Users\\Bala\\AppData\\Roaming\\Python\\Python37\\site-packages\\ipykernel_launcher.py:2: DeprecationWarning: Using Nominatim with the default \"geopy/1.21.0\" `user_agent` is strongly discouraged, as it violates Nominatim's ToS https://operations.osmfoundation.org/policies/nominatim/ and may possibly cause 403 and 429 HTTP errors. Please specify a custom `user_agent` with `Nominatim(user_agent=\"my-application\")` or by overriding the default `user_agent`: `geopy.geocoders.options.default_user_agent = \"my-application\"`. In geopy 2.0 this will become an exception.\n",
      "  \n",
      "C:\\Users\\Bala\\AppData\\Roaming\\Python\\Python37\\site-packages\\ipykernel_launcher.py:6: SettingWithCopyWarning: \n",
      "A value is trying to be set on a copy of a slice from a DataFrame\n",
      "\n",
      "See the caveats in the documentation: http://pandas.pydata.org/pandas-docs/stable/user_guide/indexing.html#returning-a-view-versus-a-copy\n",
      "  \n",
      "C:\\Users\\Bala\\AppData\\Roaming\\Python\\Python37\\site-packages\\ipykernel_launcher.py:7: SettingWithCopyWarning: \n",
      "A value is trying to be set on a copy of a slice from a DataFrame\n",
      "\n",
      "See the caveats in the documentation: http://pandas.pydata.org/pandas-docs/stable/user_guide/indexing.html#returning-a-view-versus-a-copy\n",
      "  import sys\n"
     ]
    },
    {
     "name": "stdout",
     "output_type": "stream",
     "text": [
      "1 latitude is :- 10.2188344 \n",
      "longtitude is:- 92.5771329\n",
      "2 latitude is :- 25.6440845 \n",
      "longtitude is:- 85.906508\n",
      "3 latitude is :- 30.7194022 \n",
      "longtitude is:- 76.7646552\n",
      "4 latitude is :- 21.6637359 \n",
      "longtitude is:- 81.8406351\n",
      "5 latitude is :- 28.6517178 \n",
      "longtitude is:- 77.2219388\n",
      "6 latitude is :- 15.3004543 \n",
      "longtitude is:- 74.0855134\n",
      "7 latitude is :- 22.41540825 \n",
      "longtitude is:- 72.03149703699282\n",
      "8 latitude is :- 29.0 \n",
      "longtitude is:- 76.0\n",
      "9 latitude is :- 31.81676015 \n",
      "longtitude is:- 77.34932051968858\n",
      "10 latitude is :- 34.0476564 \n",
      "longtitude is:- 76.7972892\n",
      "11 latitude is :- 14.5203896 \n",
      "longtitude is:- 75.7223521\n",
      "12 latitude is :- 10.3528744 \n",
      "longtitude is:- 76.5120396\n",
      "13 latitude is :- 33.9456407 \n",
      "longtitude is:- 77.6568576\n",
      "14 latitude is :- 23.8143419 \n",
      "longtitude is:- 77.5340719\n",
      "15 latitude is :- 19.531932 \n",
      "longtitude is:- 76.0554568\n",
      "16 latitude is :- 24.7208818 \n",
      "longtitude is:- 93.9229386\n",
      "17 latitude is :- 23.2146169 \n",
      "longtitude is:- 92.8687612\n",
      "18 latitude is :- 20.5431241 \n",
      "longtitude is:- 84.6897321\n",
      "19 latitude is :- 11.9340568 \n",
      "longtitude is:- 79.8306447\n",
      "20 latitude is :- 30.9293211 \n",
      "longtitude is:- 75.5004841\n",
      "21 latitude is :- 26.8105777 \n",
      "longtitude is:- 73.7684549\n",
      "22 latitude is :- 10.9094334 \n",
      "longtitude is:- 78.3665347\n",
      "23 latitude is :- 17.329125 \n",
      "longtitude is:- 78.5822228\n",
      "24 latitude is :- 30.091993549999998 \n",
      "longtitude is:- 79.32176659343018\n",
      "25 latitude is :- 27.1303344 \n",
      "longtitude is:- 80.859666\n",
      "26 latitude is :- 22.9964948 \n",
      "longtitude is:- 87.6855882\n",
      "27 latitude is :- 26.4073841 \n",
      "longtitude is:- 93.2551303\n",
      "28 latitude is :- 23.4559809 \n",
      "longtitude is:- 85.2557301\n",
      "29 latitude is :- 27.6891712 \n",
      "longtitude is:- 96.4597226\n",
      "30 latitude is :- 23.7750823 \n",
      "longtitude is:- 91.7025091\n"
     ]
    }
   ],
   "source": [
    "for i in df.index:\n",
    "    geolocator = Nominatim()\n",
    "    city = df['State/UT'][i]\n",
    "    country =\"India\"\n",
    "    loc = geolocator.geocode(city+','+ country)\n",
    "    df['Latitude'][i] = loc.latitude\n",
    "    df['Longitude'][i] = loc.longitude\n",
    "    print(i, \"latitude is :-\" ,loc.latitude,\"\\nlongtitude is:-\" ,loc.longitude)"
   ]
  },
  {
   "cell_type": "code",
   "execution_count": 79,
   "metadata": {},
   "outputs": [],
   "source": [
    "df.to_csv(\"Statewise-2020-04-06.csv\")"
   ]
  }
 ],
 "metadata": {
  "kernelspec": {
   "display_name": "Python 3",
   "language": "python",
   "name": "python3"
  },
  "language_info": {
   "codemirror_mode": {
    "name": "ipython",
    "version": 3
   },
   "file_extension": ".py",
   "mimetype": "text/x-python",
   "name": "python",
   "nbconvert_exporter": "python",
   "pygments_lexer": "ipython3",
   "version": "3.7.4"
  }
 },
 "nbformat": 4,
 "nbformat_minor": 2
}
