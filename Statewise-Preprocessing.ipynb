{
 "cells": [
  {
   "cell_type": "code",
   "execution_count": 1,
   "metadata": {},
   "outputs": [],
   "source": [
    "import pandas as pd\n",
    "import numpy as np\n",
    "import math\n",
    "from  geopy.geocoders import Nominatim"
   ]
  },
  {
   "cell_type": "markdown",
   "metadata": {},
   "source": [
    "__Statewise-2020-03-27__"
   ]
  },
  {
   "cell_type": "code",
   "execution_count": 26,
   "metadata": {},
   "outputs": [
    {
     "name": "stdout",
     "output_type": "stream",
     "text": [
      "                       State/UT  No of Positive cases   Latitude  Longitude\n",
      "0   Andaman and Nicobar Islands                     1  11.667026  92.735983\n",
      "1                Andhra Pradesh                    12  14.750429  78.570026\n",
      "2                         Bihar                     6  25.785414  87.479973\n",
      "3                    Chandigarh                     7  30.719997  76.780006\n",
      "4                  Chhattisgarh                     6  22.090420  82.159987\n",
      "5                         Delhi                    36  28.669993  77.230004\n",
      "6                           Goa                     3  15.491997  73.818001\n",
      "7                       Gujarat                    43  22.309425  72.136230\n",
      "8                       Haryana                    30  28.450006  77.019991\n",
      "9              Himachal Pradesh                     3  31.100025  77.166597\n",
      "10            Jammu and Kashmir                    13  34.299959  74.466658\n",
      "11                    Karnataka                    55  12.570381  76.919997\n",
      "12                       Kerala                   137   8.900373  76.569993\n",
      "13                       Ladakh                    13  34.209515  77.615112\n",
      "14               Madhya Pradesh                    20  21.300391  76.130019\n",
      "15                  Maharashtra                   130  19.250232  73.160175\n",
      "16                      Manipur                     1  24.799971  93.950017\n",
      "17                      Mizoram                     1  23.710399  92.720015\n",
      "18                       Odisha                     2  19.820430  85.900017\n",
      "19                   Puducherry                     1  11.934994  79.830000\n",
      "20                       Punjab                    33  31.519974  75.980003\n",
      "21                    Rajasthan                    41  26.449999  74.639981\n",
      "22                   Tamil Nadu                    29  12.920386  79.150042\n",
      "23                    Telengana                    45  17.123184  79.208824\n",
      "24                  Uttarakhand                     5  30.320409  78.050006\n",
      "25                Uttar Pradesh                    41  27.599981  78.050006\n",
      "26                  West Bengal                    10  22.580390  88.329947\n"
     ]
    }
   ],
   "source": [
    "df = pd.read_excel('Statewise-2020-03-27.xlsx', header = 0)\n",
    "df.rename(columns={\"Name of State / UT\": \"State/UT\",\"Confirmed COVID-19 Cases 28-03-2020\": \"No of Positive cases\", 'Lat': 'Latitude', 'Long': 'Longitude'}, inplace = True)\n",
    "df.drop(['S. No.'], axis=1, inplace = True)\n",
    "with pd.option_context('display.max_rows', None, 'display.max_columns', None):  # more options can be specified also\n",
    "    print(df)"
   ]
  },
  {
   "cell_type": "code",
   "execution_count": 27,
   "metadata": {},
   "outputs": [
    {
     "name": "stderr",
     "output_type": "stream",
     "text": [
      "C:\\Users\\Bala\\AppData\\Roaming\\Python\\Python37\\site-packages\\ipykernel_launcher.py:2: DeprecationWarning: Using Nominatim with the default \"geopy/1.21.0\" `user_agent` is strongly discouraged, as it violates Nominatim's ToS https://operations.osmfoundation.org/policies/nominatim/ and may possibly cause 403 and 429 HTTP errors. Please specify a custom `user_agent` with `Nominatim(user_agent=\"my-application\")` or by overriding the default `user_agent`: `geopy.geocoders.options.default_user_agent = \"my-application\"`. In geopy 2.0 this will become an exception.\n",
      "  \n",
      "C:\\Users\\Bala\\AppData\\Roaming\\Python\\Python37\\site-packages\\ipykernel_launcher.py:6: SettingWithCopyWarning: \n",
      "A value is trying to be set on a copy of a slice from a DataFrame\n",
      "\n",
      "See the caveats in the documentation: http://pandas.pydata.org/pandas-docs/stable/user_guide/indexing.html#returning-a-view-versus-a-copy\n",
      "  \n",
      "C:\\Users\\Bala\\AppData\\Roaming\\Python\\Python37\\site-packages\\ipykernel_launcher.py:7: SettingWithCopyWarning: \n",
      "A value is trying to be set on a copy of a slice from a DataFrame\n",
      "\n",
      "See the caveats in the documentation: http://pandas.pydata.org/pandas-docs/stable/user_guide/indexing.html#returning-a-view-versus-a-copy\n",
      "  import sys\n"
     ]
    },
    {
     "name": "stdout",
     "output_type": "stream",
     "text": [
      "0 latitude is :- 10.2188344 \n",
      "longtitude is:- 92.5771329\n",
      "1 latitude is :- 15.9240905 \n",
      "longtitude is:- 80.1863809\n",
      "2 latitude is :- 25.6440845 \n",
      "longtitude is:- 85.906508\n",
      "3 latitude is :- 30.7194022 \n",
      "longtitude is:- 76.7646552\n",
      "4 latitude is :- 21.6637359 \n",
      "longtitude is:- 81.8406351\n",
      "5 latitude is :- 28.6517178 \n",
      "longtitude is:- 77.2219388\n",
      "6 latitude is :- 15.3004543 \n",
      "longtitude is:- 74.0855134\n",
      "7 latitude is :- 22.41540825 \n",
      "longtitude is:- 72.03149703699282\n",
      "8 latitude is :- 29.0 \n",
      "longtitude is:- 76.0\n",
      "9 latitude is :- 31.81676015 \n",
      "longtitude is:- 77.34932051968858\n",
      "10 latitude is :- 34.0476564 \n",
      "longtitude is:- 76.7972892\n",
      "11 latitude is :- 14.5203896 \n",
      "longtitude is:- 75.7223521\n",
      "12 latitude is :- 10.3528744 \n",
      "longtitude is:- 76.5120396\n",
      "13 latitude is :- 33.9456407 \n",
      "longtitude is:- 77.6568576\n",
      "14 latitude is :- 23.8143419 \n",
      "longtitude is:- 77.5340719\n",
      "15 latitude is :- 19.531932 \n",
      "longtitude is:- 76.0554568\n",
      "16 latitude is :- 24.7208818 \n",
      "longtitude is:- 93.9229386\n",
      "17 latitude is :- 23.2146169 \n",
      "longtitude is:- 92.8687612\n",
      "18 latitude is :- 20.5431241 \n",
      "longtitude is:- 84.6897321\n",
      "19 latitude is :- 11.9340568 \n",
      "longtitude is:- 79.8306447\n",
      "20 latitude is :- 30.9293211 \n",
      "longtitude is:- 75.5004841\n",
      "21 latitude is :- 26.8105777 \n",
      "longtitude is:- 73.7684549\n",
      "22 latitude is :- 10.9094334 \n",
      "longtitude is:- 78.3665347\n",
      "23 latitude is :- 17.329125 \n",
      "longtitude is:- 78.5822228\n",
      "24 latitude is :- 30.091993549999998 \n",
      "longtitude is:- 79.32176659343018\n",
      "25 latitude is :- 27.1303344 \n",
      "longtitude is:- 80.859666\n",
      "26 latitude is :- 22.9964948 \n",
      "longtitude is:- 87.6855882\n"
     ]
    }
   ],
   "source": [
    "for i in df.index:\n",
    "    geolocator = Nominatim()\n",
    "    city = df['State/UT'][i]\n",
    "    country =\"India\"\n",
    "    loc = geolocator.geocode(city+','+ country)\n",
    "    df['Latitude'][i] = loc.latitude\n",
    "    df['Longitude'][i] = loc.longitude\n",
    "    print(i, \"latitude is :-\" ,loc.latitude,\"\\nlongtitude is:-\" ,loc.longitude)"
   ]
  },
  {
   "cell_type": "code",
   "execution_count": 28,
   "metadata": {},
   "outputs": [],
   "source": [
    "df.to_csv(\"Statewise-2020-03-27.csv\")"
   ]
  },
  {
   "cell_type": "markdown",
   "metadata": {},
   "source": [
    "__Statewise-2020-03-29__"
   ]
  },
  {
   "cell_type": "code",
   "execution_count": 29,
   "metadata": {},
   "outputs": [
    {
     "name": "stdout",
     "output_type": "stream",
     "text": [
      "                       State/UT  No of Positive cases   Latitude  Longitude\n",
      "0   Andaman and Nicobar Islands                     9  11.667026  92.735983\n",
      "1                Andhra Pradesh                    23  14.750429  78.570026\n",
      "2                         Bihar                    15  25.785414  87.479973\n",
      "3                    Chandigarh                     8  30.719997  76.780006\n",
      "4                  Chhattisgarh                     7  22.090420  82.159987\n",
      "5                         Delhi                    87  28.669993  77.230004\n",
      "6                           Goa                     5  15.491997  73.818001\n",
      "7                       Gujarat                    69  22.309425  72.136230\n",
      "8                       Haryana                    36  28.450006  77.019991\n",
      "9              Himachal Pradesh                     3  31.100025  77.166597\n",
      "10            Jammu and Kashmir                    48  34.299959  74.466658\n",
      "11                    Karnataka                    83  12.570381  76.919997\n",
      "12                       Kerala                   202   8.900373  76.569993\n",
      "13                       Ladakh                    13  34.209515  77.615112\n",
      "14               Madhya Pradesh                    47  21.300391  76.130019\n",
      "15                  Maharashtra                   198  19.250232  73.160175\n",
      "16                      Manipur                     1  24.799971  93.950017\n",
      "17                      Mizoram                     1  23.710399  92.720015\n",
      "18                       Odisha                     3  19.820430  85.900017\n",
      "19                   Puducherry                     1  11.934994  79.830000\n",
      "20                       Punjab                    38  31.519974  75.980003\n",
      "21                    Rajasthan                    59  26.449999  74.639981\n",
      "22                   Tamil Nadu                    67  12.920386  79.150042\n",
      "23                    Telengana                    71  17.123184  79.208824\n",
      "24                  Uttarakhand                     7  30.320409  78.050006\n",
      "25                Uttar Pradesh                    82  27.599981  78.050006\n",
      "26                  West Bengal                    22  22.580390  88.329947\n"
     ]
    }
   ],
   "source": [
    "df = pd.read_excel('Statewise-2020-03-29.xlsx', header = 0)\n",
    "df.rename(columns={\"Name of State / UT\": \"State/UT\",\"Confirmed COVID-19 Cases 29-03-2020\": \"No of Positive cases\", 'Lat': 'Latitude', 'Long': 'Longitude'}, inplace = True)\n",
    "df.drop(['S. No.'], axis=1, inplace = True)\n",
    "with pd.option_context('display.max_rows', None, 'display.max_columns', None):  # more options can be specified also\n",
    "    print(df)"
   ]
  },
  {
   "cell_type": "code",
   "execution_count": 30,
   "metadata": {},
   "outputs": [
    {
     "name": "stderr",
     "output_type": "stream",
     "text": [
      "C:\\Users\\Bala\\AppData\\Roaming\\Python\\Python37\\site-packages\\ipykernel_launcher.py:2: DeprecationWarning: Using Nominatim with the default \"geopy/1.21.0\" `user_agent` is strongly discouraged, as it violates Nominatim's ToS https://operations.osmfoundation.org/policies/nominatim/ and may possibly cause 403 and 429 HTTP errors. Please specify a custom `user_agent` with `Nominatim(user_agent=\"my-application\")` or by overriding the default `user_agent`: `geopy.geocoders.options.default_user_agent = \"my-application\"`. In geopy 2.0 this will become an exception.\n",
      "  \n",
      "C:\\Users\\Bala\\AppData\\Roaming\\Python\\Python37\\site-packages\\ipykernel_launcher.py:6: SettingWithCopyWarning: \n",
      "A value is trying to be set on a copy of a slice from a DataFrame\n",
      "\n",
      "See the caveats in the documentation: http://pandas.pydata.org/pandas-docs/stable/user_guide/indexing.html#returning-a-view-versus-a-copy\n",
      "  \n",
      "C:\\Users\\Bala\\AppData\\Roaming\\Python\\Python37\\site-packages\\ipykernel_launcher.py:7: SettingWithCopyWarning: \n",
      "A value is trying to be set on a copy of a slice from a DataFrame\n",
      "\n",
      "See the caveats in the documentation: http://pandas.pydata.org/pandas-docs/stable/user_guide/indexing.html#returning-a-view-versus-a-copy\n",
      "  import sys\n"
     ]
    },
    {
     "name": "stdout",
     "output_type": "stream",
     "text": [
      "0 latitude is :- 10.2188344 \n",
      "longtitude is:- 92.5771329\n",
      "1 latitude is :- 15.9240905 \n",
      "longtitude is:- 80.1863809\n",
      "2 latitude is :- 25.6440845 \n",
      "longtitude is:- 85.906508\n",
      "3 latitude is :- 30.7194022 \n",
      "longtitude is:- 76.7646552\n",
      "4 latitude is :- 21.6637359 \n",
      "longtitude is:- 81.8406351\n",
      "5 latitude is :- 28.6517178 \n",
      "longtitude is:- 77.2219388\n",
      "6 latitude is :- 15.3004543 \n",
      "longtitude is:- 74.0855134\n",
      "7 latitude is :- 22.41540825 \n",
      "longtitude is:- 72.03149703699282\n",
      "8 latitude is :- 29.0 \n",
      "longtitude is:- 76.0\n",
      "9 latitude is :- 31.81676015 \n",
      "longtitude is:- 77.34932051968858\n",
      "10 latitude is :- 34.0476564 \n",
      "longtitude is:- 76.7972892\n",
      "11 latitude is :- 14.5203896 \n",
      "longtitude is:- 75.7223521\n",
      "12 latitude is :- 10.3528744 \n",
      "longtitude is:- 76.5120396\n",
      "13 latitude is :- 33.9456407 \n",
      "longtitude is:- 77.6568576\n",
      "14 latitude is :- 23.8143419 \n",
      "longtitude is:- 77.5340719\n",
      "15 latitude is :- 19.531932 \n",
      "longtitude is:- 76.0554568\n",
      "16 latitude is :- 24.7208818 \n",
      "longtitude is:- 93.9229386\n",
      "17 latitude is :- 23.2146169 \n",
      "longtitude is:- 92.8687612\n",
      "18 latitude is :- 20.5431241 \n",
      "longtitude is:- 84.6897321\n",
      "19 latitude is :- 11.9340568 \n",
      "longtitude is:- 79.8306447\n",
      "20 latitude is :- 30.9293211 \n",
      "longtitude is:- 75.5004841\n",
      "21 latitude is :- 26.8105777 \n",
      "longtitude is:- 73.7684549\n",
      "22 latitude is :- 10.9094334 \n",
      "longtitude is:- 78.3665347\n",
      "23 latitude is :- 17.329125 \n",
      "longtitude is:- 78.5822228\n",
      "24 latitude is :- 30.091993549999998 \n",
      "longtitude is:- 79.32176659343018\n",
      "25 latitude is :- 27.1303344 \n",
      "longtitude is:- 80.859666\n",
      "26 latitude is :- 22.9964948 \n",
      "longtitude is:- 87.6855882\n"
     ]
    }
   ],
   "source": [
    "for i in df.index:\n",
    "    geolocator = Nominatim()\n",
    "    city = df['State/UT'][i]\n",
    "    country =\"India\"\n",
    "    loc = geolocator.geocode(city+','+ country)\n",
    "    df['Latitude'][i] = loc.latitude\n",
    "    df['Longitude'][i] = loc.longitude\n",
    "    print(i, \"latitude is :-\" ,loc.latitude,\"\\nlongtitude is:-\" ,loc.longitude)"
   ]
  },
  {
   "cell_type": "code",
   "execution_count": 31,
   "metadata": {},
   "outputs": [],
   "source": [
    "df.to_csv(\"Statewise-2020-03-29.csv\")"
   ]
  },
  {
   "cell_type": "markdown",
   "metadata": {},
   "source": [
    "__Statewise-2020-03-30__"
   ]
  },
  {
   "cell_type": "code",
   "execution_count": 32,
   "metadata": {},
   "outputs": [
    {
     "name": "stdout",
     "output_type": "stream",
     "text": [
      "                       State/UT  No of Positive cases   Latitude  Longitude\n",
      "0                Andhra Pradesh                    40  14.750429  78.570026\n",
      "1   Andaman and Nicobar Islands                    10  11.667026  92.735983\n",
      "2                         Bihar                    15  25.785414  87.479973\n",
      "3                    Chandigarh                    13  30.719997  76.780006\n",
      "4                  Chhattisgarh                     8  22.090420  82.159987\n",
      "5                         Delhi                    97  28.669993  77.230004\n",
      "6                           Goa                     5  15.491997  73.818001\n",
      "7                       Gujarat                    73  22.309425  72.136230\n",
      "8                       Haryana                    40  28.450006  77.019991\n",
      "9              Himachal Pradesh                     3  31.100025  77.166597\n",
      "10            Jammu and Kashmir                    54  34.299959  74.466658\n",
      "11                    Karnataka                    83  12.570381  76.919997\n",
      "12                       Kerala                   234   8.900373  76.569993\n",
      "13                       Ladakh                    13  34.209515  77.615112\n",
      "14               Madhya Pradesh                    47  21.300391  76.130019\n",
      "15                  Maharashtra                   216  19.250232  73.160175\n",
      "16                      Manipur                     1  24.799971  93.950017\n",
      "17                      Mizoram                     1  23.710399  92.720015\n",
      "18                       Odisha                     3  19.820430  85.900017\n",
      "19                   Puducherry                     1  11.934994  79.830000\n",
      "20                       Punjab                    41  31.519974  75.980003\n",
      "21                    Rajasthan                    74  26.449999  74.639981\n",
      "22                   Tamil Nadu                    74  12.920386  79.150042\n",
      "23                    Telengana                    79  17.123184  79.208824\n",
      "24                  Uttarakhand                     7  30.320409  78.050006\n",
      "25                Uttar Pradesh                   101  27.599981  78.050006\n",
      "26                  West Bengal                    26  22.580390  88.329947\n"
     ]
    }
   ],
   "source": [
    "df = pd.read_excel('Statewise-2020-03-30.xlsx', header = 0)\n",
    "df.rename(columns={\"Name of State / UT\": \"State/UT\",\"Confirmed COVID-19 Cases 28-03-2020\": \"No of Positive cases\", 'Lat': 'Latitude', 'Long': 'Longitude'}, inplace = True)\n",
    "df.drop(['S. No.'], axis=1, inplace = True)\n",
    "with pd.option_context('display.max_rows', None, 'display.max_columns', None):  # more options can be specified also\n",
    "    print(df)"
   ]
  },
  {
   "cell_type": "code",
   "execution_count": 33,
   "metadata": {},
   "outputs": [
    {
     "name": "stderr",
     "output_type": "stream",
     "text": [
      "C:\\Users\\Bala\\AppData\\Roaming\\Python\\Python37\\site-packages\\ipykernel_launcher.py:2: DeprecationWarning: Using Nominatim with the default \"geopy/1.21.0\" `user_agent` is strongly discouraged, as it violates Nominatim's ToS https://operations.osmfoundation.org/policies/nominatim/ and may possibly cause 403 and 429 HTTP errors. Please specify a custom `user_agent` with `Nominatim(user_agent=\"my-application\")` or by overriding the default `user_agent`: `geopy.geocoders.options.default_user_agent = \"my-application\"`. In geopy 2.0 this will become an exception.\n",
      "  \n",
      "C:\\Users\\Bala\\AppData\\Roaming\\Python\\Python37\\site-packages\\ipykernel_launcher.py:6: SettingWithCopyWarning: \n",
      "A value is trying to be set on a copy of a slice from a DataFrame\n",
      "\n",
      "See the caveats in the documentation: http://pandas.pydata.org/pandas-docs/stable/user_guide/indexing.html#returning-a-view-versus-a-copy\n",
      "  \n",
      "C:\\Users\\Bala\\AppData\\Roaming\\Python\\Python37\\site-packages\\ipykernel_launcher.py:7: SettingWithCopyWarning: \n",
      "A value is trying to be set on a copy of a slice from a DataFrame\n",
      "\n",
      "See the caveats in the documentation: http://pandas.pydata.org/pandas-docs/stable/user_guide/indexing.html#returning-a-view-versus-a-copy\n",
      "  import sys\n"
     ]
    },
    {
     "name": "stdout",
     "output_type": "stream",
     "text": [
      "0 latitude is :- 15.9240905 \n",
      "longtitude is:- 80.1863809\n",
      "1 latitude is :- 10.2188344 \n",
      "longtitude is:- 92.5771329\n",
      "2 latitude is :- 25.6440845 \n",
      "longtitude is:- 85.906508\n",
      "3 latitude is :- 30.7194022 \n",
      "longtitude is:- 76.7646552\n",
      "4 latitude is :- 21.6637359 \n",
      "longtitude is:- 81.8406351\n",
      "5 latitude is :- 28.6517178 \n",
      "longtitude is:- 77.2219388\n",
      "6 latitude is :- 15.3004543 \n",
      "longtitude is:- 74.0855134\n",
      "7 latitude is :- 22.41540825 \n",
      "longtitude is:- 72.03149703699282\n",
      "8 latitude is :- 29.0 \n",
      "longtitude is:- 76.0\n",
      "9 latitude is :- 31.81676015 \n",
      "longtitude is:- 77.34932051968858\n",
      "10 latitude is :- 34.0476564 \n",
      "longtitude is:- 76.7972892\n",
      "11 latitude is :- 14.5203896 \n",
      "longtitude is:- 75.7223521\n",
      "12 latitude is :- 10.3528744 \n",
      "longtitude is:- 76.5120396\n",
      "13 latitude is :- 33.9456407 \n",
      "longtitude is:- 77.6568576\n",
      "14 latitude is :- 23.8143419 \n",
      "longtitude is:- 77.5340719\n",
      "15 latitude is :- 19.531932 \n",
      "longtitude is:- 76.0554568\n",
      "16 latitude is :- 24.7208818 \n",
      "longtitude is:- 93.9229386\n",
      "17 latitude is :- 23.2146169 \n",
      "longtitude is:- 92.8687612\n",
      "18 latitude is :- 20.5431241 \n",
      "longtitude is:- 84.6897321\n",
      "19 latitude is :- 11.9340568 \n",
      "longtitude is:- 79.8306447\n",
      "20 latitude is :- 30.9293211 \n",
      "longtitude is:- 75.5004841\n",
      "21 latitude is :- 26.8105777 \n",
      "longtitude is:- 73.7684549\n",
      "22 latitude is :- 10.9094334 \n",
      "longtitude is:- 78.3665347\n",
      "23 latitude is :- 17.329125 \n",
      "longtitude is:- 78.5822228\n",
      "24 latitude is :- 30.091993549999998 \n",
      "longtitude is:- 79.32176659343018\n",
      "25 latitude is :- 27.1303344 \n",
      "longtitude is:- 80.859666\n",
      "26 latitude is :- 22.9964948 \n",
      "longtitude is:- 87.6855882\n"
     ]
    }
   ],
   "source": [
    "for i in df.index:\n",
    "    geolocator = Nominatim()\n",
    "    city = df['State/UT'][i]\n",
    "    country =\"India\"\n",
    "    loc = geolocator.geocode(city+','+ country)\n",
    "    df['Latitude'][i] = loc.latitude\n",
    "    df['Longitude'][i] = loc.longitude\n",
    "    print(i, \"latitude is :-\" ,loc.latitude,\"\\nlongtitude is:-\" ,loc.longitude)"
   ]
  },
  {
   "cell_type": "code",
   "execution_count": 35,
   "metadata": {},
   "outputs": [],
   "source": [
    "df.to_csv(\"Statewise-2020-03-30.csv\")"
   ]
  },
  {
   "cell_type": "markdown",
   "metadata": {},
   "source": [
    "__Statewise-2020-04-01__"
   ]
  },
  {
   "cell_type": "code",
   "execution_count": 36,
   "metadata": {},
   "outputs": [
    {
     "name": "stdout",
     "output_type": "stream",
     "text": [
      "                       State/UT  No of Positive cases   Latitude  Longitude\n",
      "0                Andhra Pradesh                    83  14.750429  78.570026\n",
      "1   Andaman and Nicobar Islands                    10  11.667026  92.735983\n",
      "2                         Assam                     1  26.200600  92.937600\n",
      "3                         Bihar                    23  25.785414  87.479973\n",
      "4                    Chandigarh                    16  30.719997  76.780006\n",
      "5                  Chhattisgarh                     9  22.090420  82.159987\n",
      "6                         Delhi                   152  28.669993  77.230004\n",
      "7                           Goa                     5  15.491997  73.818001\n",
      "8                       Gujarat                    82  22.309425  72.136230\n",
      "9                       Haryana                    43  28.450006  77.019991\n",
      "10             Himachal Pradesh                     3  31.100025  77.166597\n",
      "11            Jammu and Kashmir                    62  34.299959  74.466658\n",
      "12                    Jharkhand                     1  23.610200  85.279900\n",
      "13                    Karnataka                   101  12.570381  76.919997\n",
      "14                       Kerala                   241   8.900373  76.569993\n",
      "15                       Ladakh                    13  34.209515  77.615112\n",
      "16               Madhya Pradesh                    66  21.300391  76.130019\n",
      "17                  Maharashtra                   302  19.250232  73.160175\n",
      "18                      Manipur                     1  24.799971  93.950017\n",
      "19                      Mizoram                     1  23.710399  92.720015\n",
      "20                       Odisha                     4  19.820430  85.900017\n",
      "21                   Puducherry                     3  11.934994  79.830000\n",
      "22                       Punjab                    42  31.519974  75.980003\n",
      "23                    Rajasthan                    93  26.449999  74.639981\n",
      "24                   Tamil Nadu                   234  12.920386  79.150042\n",
      "25                    Telengana                    96  17.123184  79.208824\n",
      "26                  Uttarakhand                     7  30.320409  78.050006\n",
      "27                Uttar Pradesh                   103  27.599981  78.050006\n",
      "28                  West Bengal                    37  22.580390  88.329947\n"
     ]
    }
   ],
   "source": [
    "df = pd.read_excel('Statewise-2020-04-01.xlsx', header = 0)\n",
    "df.rename(columns={\"Name of State / UT\": \"State/UT\",\"Confirmed COVID-19 Cases 01-04-2020\": \"No of Positive cases\", 'Lat': 'Latitude', 'Long': 'Longitude'}, inplace = True)\n",
    "df.drop(['S. No.'], axis=1, inplace = True)\n",
    "with pd.option_context('display.max_rows', None, 'display.max_columns', None):  # more options can be specified also\n",
    "    print(df)"
   ]
  },
  {
   "cell_type": "code",
   "execution_count": 38,
   "metadata": {},
   "outputs": [
    {
     "name": "stderr",
     "output_type": "stream",
     "text": [
      "C:\\Users\\Bala\\AppData\\Roaming\\Python\\Python37\\site-packages\\ipykernel_launcher.py:2: DeprecationWarning: Using Nominatim with the default \"geopy/1.21.0\" `user_agent` is strongly discouraged, as it violates Nominatim's ToS https://operations.osmfoundation.org/policies/nominatim/ and may possibly cause 403 and 429 HTTP errors. Please specify a custom `user_agent` with `Nominatim(user_agent=\"my-application\")` or by overriding the default `user_agent`: `geopy.geocoders.options.default_user_agent = \"my-application\"`. In geopy 2.0 this will become an exception.\n",
      "  \n",
      "C:\\Users\\Bala\\AppData\\Roaming\\Python\\Python37\\site-packages\\ipykernel_launcher.py:6: SettingWithCopyWarning: \n",
      "A value is trying to be set on a copy of a slice from a DataFrame\n",
      "\n",
      "See the caveats in the documentation: http://pandas.pydata.org/pandas-docs/stable/user_guide/indexing.html#returning-a-view-versus-a-copy\n",
      "  \n",
      "C:\\Users\\Bala\\AppData\\Roaming\\Python\\Python37\\site-packages\\ipykernel_launcher.py:7: SettingWithCopyWarning: \n",
      "A value is trying to be set on a copy of a slice from a DataFrame\n",
      "\n",
      "See the caveats in the documentation: http://pandas.pydata.org/pandas-docs/stable/user_guide/indexing.html#returning-a-view-versus-a-copy\n",
      "  import sys\n"
     ]
    },
    {
     "name": "stdout",
     "output_type": "stream",
     "text": [
      "0 latitude is :- 15.9240905 \n",
      "longtitude is:- 80.1863809\n",
      "1 latitude is :- 10.2188344 \n",
      "longtitude is:- 92.5771329\n",
      "2 latitude is :- 26.4073841 \n",
      "longtitude is:- 93.2551303\n",
      "3 latitude is :- 25.6440845 \n",
      "longtitude is:- 85.906508\n",
      "4 latitude is :- 30.7194022 \n",
      "longtitude is:- 76.7646552\n",
      "5 latitude is :- 21.6637359 \n",
      "longtitude is:- 81.8406351\n",
      "6 latitude is :- 28.6517178 \n",
      "longtitude is:- 77.2219388\n",
      "7 latitude is :- 15.3004543 \n",
      "longtitude is:- 74.0855134\n",
      "8 latitude is :- 22.41540825 \n",
      "longtitude is:- 72.03149703699282\n",
      "9 latitude is :- 29.0 \n",
      "longtitude is:- 76.0\n",
      "10 latitude is :- 31.81676015 \n",
      "longtitude is:- 77.34932051968858\n",
      "11 latitude is :- 34.0476564 \n",
      "longtitude is:- 76.7972892\n",
      "12 latitude is :- 23.4559809 \n",
      "longtitude is:- 85.2557301\n",
      "13 latitude is :- 14.5203896 \n",
      "longtitude is:- 75.7223521\n",
      "14 latitude is :- 10.3528744 \n",
      "longtitude is:- 76.5120396\n",
      "15 latitude is :- 33.9456407 \n",
      "longtitude is:- 77.6568576\n",
      "16 latitude is :- 23.8143419 \n",
      "longtitude is:- 77.5340719\n",
      "17 latitude is :- 19.531932 \n",
      "longtitude is:- 76.0554568\n",
      "18 latitude is :- 24.7208818 \n",
      "longtitude is:- 93.9229386\n",
      "19 latitude is :- 23.2146169 \n",
      "longtitude is:- 92.8687612\n",
      "20 latitude is :- 20.5431241 \n",
      "longtitude is:- 84.6897321\n",
      "21 latitude is :- 11.9340568 \n",
      "longtitude is:- 79.8306447\n",
      "22 latitude is :- 30.9293211 \n",
      "longtitude is:- 75.5004841\n",
      "23 latitude is :- 26.8105777 \n",
      "longtitude is:- 73.7684549\n",
      "24 latitude is :- 10.9094334 \n",
      "longtitude is:- 78.3665347\n",
      "25 latitude is :- 17.329125 \n",
      "longtitude is:- 78.5822228\n",
      "26 latitude is :- 30.091993549999998 \n",
      "longtitude is:- 79.32176659343018\n",
      "27 latitude is :- 27.1303344 \n",
      "longtitude is:- 80.859666\n",
      "28 latitude is :- 22.9964948 \n",
      "longtitude is:- 87.6855882\n"
     ]
    }
   ],
   "source": [
    "for i in df.index:\n",
    "    geolocator = Nominatim()\n",
    "    city = df['State/UT'][i]\n",
    "    country =\"India\"\n",
    "    loc = geolocator.geocode(city+','+ country)\n",
    "    df['Latitude'][i] = loc.latitude\n",
    "    df['Longitude'][i] = loc.longitude\n",
    "    print(i, \"latitude is :-\" ,loc.latitude,\"\\nlongtitude is:-\" ,loc.longitude)"
   ]
  },
  {
   "cell_type": "code",
   "execution_count": 39,
   "metadata": {},
   "outputs": [],
   "source": [
    "df.to_csv(\"Statewise-2020-04-01.csv\")"
   ]
  },
  {
   "cell_type": "markdown",
   "metadata": {},
   "source": [
    "__General__"
   ]
  },
  {
   "cell_type": "code",
   "execution_count": 77,
   "metadata": {},
   "outputs": [
    {
     "name": "stdout",
     "output_type": "stream",
     "text": [
      "                       State/UT  No of Positive cases  Latitude  Longitude\n",
      "1   Andaman and Nicobar Islands                    10       NaN        NaN\n",
      "2                         Bihar                    32       NaN        NaN\n",
      "3                    Chandigarh                    18       NaN        NaN\n",
      "4                  Chhattisgarh                    10       NaN        NaN\n",
      "5                         Delhi                   523       NaN        NaN\n",
      "6                           Goa                     7       NaN        NaN\n",
      "7                       Gujarat                   144       NaN        NaN\n",
      "8                       Haryana                    90       NaN        NaN\n",
      "9              Himachal Pradesh                    13       NaN        NaN\n",
      "10            Jammu and Kashmir                   109       NaN        NaN\n",
      "11                    Karnataka                   151       NaN        NaN\n",
      "12                       Kerala                   327       NaN        NaN\n",
      "13                       Ladakh                    14       NaN        NaN\n",
      "14               Madhya Pradesh                   165       NaN        NaN\n",
      "15                  Maharashtra                   748       NaN        NaN\n",
      "16                      Manipur                     2       NaN        NaN\n",
      "17                      Mizoram                     1       NaN        NaN\n",
      "18                       Odisha                    21       NaN        NaN\n",
      "19                   Puducherry                     5       NaN        NaN\n",
      "20                       Punjab                    76       NaN        NaN\n",
      "21                    Rajasthan                   288       NaN        NaN\n",
      "22                    TamilNadu                   621       NaN        NaN\n",
      "23                    Telengana                   321       NaN        NaN\n",
      "24                  Uttarakhand                    31       NaN        NaN\n",
      "25                Uttar Pradesh                   305       NaN        NaN\n",
      "26                  West Bengal                    91       NaN        NaN\n",
      "27                        Assam                    26       NaN        NaN\n",
      "28                    Jharkhand                     4       NaN        NaN\n",
      "29            Arunachal Pradesh                     1       NaN        NaN\n",
      "30                      Tripura                     1       NaN        NaN\n"
     ]
    },
    {
     "name": "stderr",
     "output_type": "stream",
     "text": [
      "C:\\Users\\Bala\\AppData\\Roaming\\Python\\Python37\\site-packages\\ipykernel_launcher.py:4: SettingWithCopyWarning: \n",
      "A value is trying to be set on a copy of a slice from a DataFrame\n",
      "\n",
      "See the caveats in the documentation: http://pandas.pydata.org/pandas-docs/stable/user_guide/indexing.html#returning-a-view-versus-a-copy\n",
      "  after removing the cwd from sys.path.\n",
      "C:\\Users\\Bala\\AppData\\Roaming\\Python\\Python37\\site-packages\\ipykernel_launcher.py:5: SettingWithCopyWarning: \n",
      "A value is trying to be set on a copy of a slice from a DataFrame\n",
      "\n",
      "See the caveats in the documentation: http://pandas.pydata.org/pandas-docs/stable/user_guide/indexing.html#returning-a-view-versus-a-copy\n",
      "  \"\"\"\n",
      "C:\\Users\\Bala\\AppData\\Roaming\\Python\\Python37\\site-packages\\ipykernel_launcher.py:6: SettingWithCopyWarning: \n",
      "A value is trying to be set on a copy of a slice from a DataFrame\n",
      "\n",
      "See the caveats in the documentation: http://pandas.pydata.org/pandas-docs/stable/user_guide/indexing.html#returning-a-view-versus-a-copy\n",
      "  \n",
      "C:\\Users\\Bala\\AppData\\Roaming\\Python\\Python37\\site-packages\\ipykernel_launcher.py:7: SettingWithCopyWarning: \n",
      "A value is trying to be set on a copy of a slice from a DataFrame\n",
      "\n",
      "See the caveats in the documentation: http://pandas.pydata.org/pandas-docs/stable/user_guide/indexing.html#returning-a-view-versus-a-copy\n",
      "  import sys\n"
     ]
    }
   ],
   "source": [
    "df = pd.read_excel('Statewise-2020-04-06.xlsx', header = 0)\n",
    "df.rename(columns={\"Name of State / UT\": \"State/UT\",\"Total Confirmed cases (Including 65 foreign Nationals)\": \"No of Positive cases\", 'Lat': 'Latitude', 'Long': 'Longitude'}, inplace = True)\n",
    "df.drop(['S. No.'], axis=1, inplace = True)\n",
    "df['State/UT'][0] = 'Andhra Pradesh'\n",
    "df['State/UT'][1] = 'Andaman and Nicobar Islands'\n",
    "df['State/UT'][9] = 'Himachal Pradesh'\n",
    "df['State/UT'][25] = 'Uttar Pradesh'\n",
    "df.drop([0], inplace = True)\n",
    "with pd.option_context('display.max_rows', None, 'display.max_columns', None):  # more options can be specified also\n",
    "    print(df)"
   ]
  },
  {
   "cell_type": "code",
   "execution_count": 78,
   "metadata": {},
   "outputs": [
    {
     "name": "stderr",
     "output_type": "stream",
     "text": [
      "C:\\Users\\Bala\\AppData\\Roaming\\Python\\Python37\\site-packages\\ipykernel_launcher.py:2: DeprecationWarning: Using Nominatim with the default \"geopy/1.21.0\" `user_agent` is strongly discouraged, as it violates Nominatim's ToS https://operations.osmfoundation.org/policies/nominatim/ and may possibly cause 403 and 429 HTTP errors. Please specify a custom `user_agent` with `Nominatim(user_agent=\"my-application\")` or by overriding the default `user_agent`: `geopy.geocoders.options.default_user_agent = \"my-application\"`. In geopy 2.0 this will become an exception.\n",
      "  \n",
      "C:\\Users\\Bala\\AppData\\Roaming\\Python\\Python37\\site-packages\\ipykernel_launcher.py:6: SettingWithCopyWarning: \n",
      "A value is trying to be set on a copy of a slice from a DataFrame\n",
      "\n",
      "See the caveats in the documentation: http://pandas.pydata.org/pandas-docs/stable/user_guide/indexing.html#returning-a-view-versus-a-copy\n",
      "  \n",
      "C:\\Users\\Bala\\AppData\\Roaming\\Python\\Python37\\site-packages\\ipykernel_launcher.py:7: SettingWithCopyWarning: \n",
      "A value is trying to be set on a copy of a slice from a DataFrame\n",
      "\n",
      "See the caveats in the documentation: http://pandas.pydata.org/pandas-docs/stable/user_guide/indexing.html#returning-a-view-versus-a-copy\n",
      "  import sys\n"
     ]
    },
    {
     "name": "stdout",
     "output_type": "stream",
     "text": [
      "1 latitude is :- 10.2188344 \n",
      "longtitude is:- 92.5771329\n",
      "2 latitude is :- 25.6440845 \n",
      "longtitude is:- 85.906508\n",
      "3 latitude is :- 30.7194022 \n",
      "longtitude is:- 76.7646552\n",
      "4 latitude is :- 21.6637359 \n",
      "longtitude is:- 81.8406351\n",
      "5 latitude is :- 28.6517178 \n",
      "longtitude is:- 77.2219388\n",
      "6 latitude is :- 15.3004543 \n",
      "longtitude is:- 74.0855134\n",
      "7 latitude is :- 22.41540825 \n",
      "longtitude is:- 72.03149703699282\n",
      "8 latitude is :- 29.0 \n",
      "longtitude is:- 76.0\n",
      "9 latitude is :- 31.81676015 \n",
      "longtitude is:- 77.34932051968858\n",
      "10 latitude is :- 34.0476564 \n",
      "longtitude is:- 76.7972892\n",
      "11 latitude is :- 14.5203896 \n",
      "longtitude is:- 75.7223521\n",
      "12 latitude is :- 10.3528744 \n",
      "longtitude is:- 76.5120396\n",
      "13 latitude is :- 33.9456407 \n",
      "longtitude is:- 77.6568576\n",
      "14 latitude is :- 23.8143419 \n",
      "longtitude is:- 77.5340719\n",
      "15 latitude is :- 19.531932 \n",
      "longtitude is:- 76.0554568\n",
      "16 latitude is :- 24.7208818 \n",
      "longtitude is:- 93.9229386\n",
      "17 latitude is :- 23.2146169 \n",
      "longtitude is:- 92.8687612\n",
      "18 latitude is :- 20.5431241 \n",
      "longtitude is:- 84.6897321\n",
      "19 latitude is :- 11.9340568 \n",
      "longtitude is:- 79.8306447\n",
      "20 latitude is :- 30.9293211 \n",
      "longtitude is:- 75.5004841\n",
      "21 latitude is :- 26.8105777 \n",
      "longtitude is:- 73.7684549\n",
      "22 latitude is :- 10.9094334 \n",
      "longtitude is:- 78.3665347\n",
      "23 latitude is :- 17.329125 \n",
      "longtitude is:- 78.5822228\n",
      "24 latitude is :- 30.091993549999998 \n",
      "longtitude is:- 79.32176659343018\n",
      "25 latitude is :- 27.1303344 \n",
      "longtitude is:- 80.859666\n",
      "26 latitude is :- 22.9964948 \n",
      "longtitude is:- 87.6855882\n",
      "27 latitude is :- 26.4073841 \n",
      "longtitude is:- 93.2551303\n",
      "28 latitude is :- 23.4559809 \n",
      "longtitude is:- 85.2557301\n",
      "29 latitude is :- 27.6891712 \n",
      "longtitude is:- 96.4597226\n",
      "30 latitude is :- 23.7750823 \n",
      "longtitude is:- 91.7025091\n"
     ]
    }
   ],
   "source": [
    "for i in df.index:\n",
    "    geolocator = Nominatim()\n",
    "    city = df['State/UT'][i]\n",
    "    country =\"India\"\n",
    "    loc = geolocator.geocode(city+','+ country)\n",
    "    df['Latitude'][i] = loc.latitude\n",
    "    df['Longitude'][i] = loc.longitude\n",
    "    print(i, \"latitude is :-\" ,loc.latitude,\"\\nlongtitude is:-\" ,loc.longitude)"
   ]
  },
  {
   "cell_type": "code",
   "execution_count": 79,
   "metadata": {},
   "outputs": [],
   "source": [
    "df.to_csv(\"Statewise-2020-04-06.csv\")"
   ]
  }
 ],
 "metadata": {
  "kernelspec": {
   "display_name": "Python 3",
   "language": "python",
   "name": "python3"
  },
  "language_info": {
   "codemirror_mode": {
    "name": "ipython",
    "version": 3
   },
   "file_extension": ".py",
   "mimetype": "text/x-python",
   "name": "python",
   "nbconvert_exporter": "python",
   "pygments_lexer": "ipython3",
   "version": "3.7.4"
  }
 },
 "nbformat": 4,
 "nbformat_minor": 2
}
